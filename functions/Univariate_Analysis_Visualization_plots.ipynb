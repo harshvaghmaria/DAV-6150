{
  "nbformat": 4,
  "nbformat_minor": 0,
  "metadata": {
    "colab": {
      "provenance": []
    },
    "kernelspec": {
      "name": "python3",
      "display_name": "Python 3"
    },
    "language_info": {
      "name": "python"
    }
  },
  "cells": [
    {
      "cell_type": "markdown",
      "source": [
        "# Functions to create plots for numerical and categorical variable"
      ],
      "metadata": {
        "id": "RI_BOczHqkzg"
      }
    },
    {
      "cell_type": "code",
      "source": [
        "import warnings\n",
        "import seaborn as sns\n",
        "import matplotlib.pyplot as plt\n",
        "import pandas as pd\n",
        "import numpy as np"
      ],
      "metadata": {
        "id": "3wWljd5Lua16"
      },
      "execution_count": 1,
      "outputs": []
    },
    {
      "cell_type": "code",
      "execution_count": 2,
      "metadata": {
        "id": "GrTZaBXUqjnU"
      },
      "outputs": [],
      "source": [
        "# Univariate Analysis\n",
        "# Creating a fucntion to visualize categorical and numerical values\n",
        "def distribution_plot(i, df, type='numeric', normalize=True):\n",
        "    \"\"\"\n",
        "    This function provides distribution statistics and visualizations of dataframe columns.\n",
        "\n",
        "    Parameters:\n",
        "        i (int): Column number in the dataframe.\n",
        "        df (pd.DataFrame): Input dataframe.\n",
        "        type (str): Type of data, either 'numeric' or 'categorical'. Defaults to 'numeric'.\n",
        "        normalize (bool): Whether to normalize counts. Defaults to True.\n",
        "    \"\"\"\n",
        "    warnings.filterwarnings(\"ignore\", category=FutureWarning)\n",
        "\n",
        "    column = df.iloc[:, i]\n",
        "\n",
        "    # Set up the plotting area\n",
        "    plt.figure(figsize=(12, 6))\n",
        "\n",
        "    if type == 'numeric':\n",
        "        # Plot histogram\n",
        "        plt.subplot(1, 2, 1)\n",
        "        sns.histplot(column, kde=True, color='skyblue')  # Choose a color for the histogram\n",
        "        plt.title(f'Histogram of {df.columns[i]}')\n",
        "\n",
        "        # Plot boxplot\n",
        "        plt.subplot(1, 2, 2)\n",
        "        sns.boxplot(y=column, color='lightcoral')  # Choose a color for the boxplot\n",
        "        plt.title(f'Boxplot of {df.columns[i]}')\n",
        "\n",
        "        # Display numerical statistics\n",
        "        print(f\"Skewness: {column.skew()}\")\n",
        "        print(f\"Kurtosis: {column.kurt(skipna=True)}\")\n",
        "        print(column.describe())\n",
        "\n",
        "    elif type == 'categorical':\n",
        "        # Plot countplot\n",
        "        plt.subplot(1, 2, 1)\n",
        "        sns.countplot(x=column, palette='pastel')  # Choose a color palette for the countplot\n",
        "        plt.title(f'Countplot of {df.columns[i]}')\n",
        "\n",
        "        # Display value counts\n",
        "        print(column.value_counts(normalize=normalize))\n",
        "\n",
        "    # Display null count\n",
        "    print(f\"Null Count: {column.isnull().sum()}\")\n",
        "\n",
        "    # Show the plots\n",
        "    plt.show()"
      ]
    }
  ]
}